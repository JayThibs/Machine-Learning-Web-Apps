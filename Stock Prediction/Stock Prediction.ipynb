{
 "cells": [
  {
   "cell_type": "code",
   "execution_count": 115,
   "metadata": {},
   "outputs": [],
   "source": [
    "import pandas as pd\n",
    "import datetime\n",
    "import pandas_datareader.data as web\n",
    "from pandas import Series, DataFrame\n",
    "import matplotlib.pyplot as plt\n",
    "import math\n",
    "import numpy as np\n",
    "from sklearn import preprocessing"
   ]
  },
  {
   "cell_type": "code",
   "execution_count": 116,
   "metadata": {},
   "outputs": [
    {
     "data": {
      "text/html": [
       "<div>\n",
       "<style scoped>\n",
       "    .dataframe tbody tr th:only-of-type {\n",
       "        vertical-align: middle;\n",
       "    }\n",
       "\n",
       "    .dataframe tbody tr th {\n",
       "        vertical-align: top;\n",
       "    }\n",
       "\n",
       "    .dataframe thead th {\n",
       "        text-align: right;\n",
       "    }\n",
       "</style>\n",
       "<table border=\"1\" class=\"dataframe\">\n",
       "  <thead>\n",
       "    <tr style=\"text-align: right;\">\n",
       "      <th></th>\n",
       "      <th>High</th>\n",
       "      <th>Low</th>\n",
       "      <th>Open</th>\n",
       "      <th>Close</th>\n",
       "      <th>Volume</th>\n",
       "      <th>Adj Close</th>\n",
       "    </tr>\n",
       "    <tr>\n",
       "      <th>Date</th>\n",
       "      <th></th>\n",
       "      <th></th>\n",
       "      <th></th>\n",
       "      <th></th>\n",
       "      <th></th>\n",
       "      <th></th>\n",
       "    </tr>\n",
       "  </thead>\n",
       "  <tbody>\n",
       "    <tr>\n",
       "      <td>2019-08-26</td>\n",
       "      <td>135.559998</td>\n",
       "      <td>133.899994</td>\n",
       "      <td>134.990005</td>\n",
       "      <td>135.449997</td>\n",
       "      <td>20312600.0</td>\n",
       "      <td>135.449997</td>\n",
       "    </tr>\n",
       "    <tr>\n",
       "      <td>2019-08-27</td>\n",
       "      <td>136.720001</td>\n",
       "      <td>134.660004</td>\n",
       "      <td>136.389999</td>\n",
       "      <td>135.740005</td>\n",
       "      <td>23102100.0</td>\n",
       "      <td>135.740005</td>\n",
       "    </tr>\n",
       "    <tr>\n",
       "      <td>2019-08-28</td>\n",
       "      <td>135.759995</td>\n",
       "      <td>133.550003</td>\n",
       "      <td>134.880005</td>\n",
       "      <td>135.559998</td>\n",
       "      <td>17393300.0</td>\n",
       "      <td>135.559998</td>\n",
       "    </tr>\n",
       "    <tr>\n",
       "      <td>2019-08-29</td>\n",
       "      <td>138.440002</td>\n",
       "      <td>136.910004</td>\n",
       "      <td>137.250000</td>\n",
       "      <td>138.119995</td>\n",
       "      <td>20168700.0</td>\n",
       "      <td>138.119995</td>\n",
       "    </tr>\n",
       "    <tr>\n",
       "      <td>2019-08-30</td>\n",
       "      <td>139.179993</td>\n",
       "      <td>136.270004</td>\n",
       "      <td>139.149994</td>\n",
       "      <td>137.860001</td>\n",
       "      <td>23940100.0</td>\n",
       "      <td>137.860001</td>\n",
       "    </tr>\n",
       "  </tbody>\n",
       "</table>\n",
       "</div>"
      ],
      "text/plain": [
       "                  High         Low        Open       Close      Volume  \\\n",
       "Date                                                                     \n",
       "2019-08-26  135.559998  133.899994  134.990005  135.449997  20312600.0   \n",
       "2019-08-27  136.720001  134.660004  136.389999  135.740005  23102100.0   \n",
       "2019-08-28  135.759995  133.550003  134.880005  135.559998  17393300.0   \n",
       "2019-08-29  138.440002  136.910004  137.250000  138.119995  20168700.0   \n",
       "2019-08-30  139.179993  136.270004  139.149994  137.860001  23940100.0   \n",
       "\n",
       "             Adj Close  \n",
       "Date                    \n",
       "2019-08-26  135.449997  \n",
       "2019-08-27  135.740005  \n",
       "2019-08-28  135.559998  \n",
       "2019-08-29  138.119995  \n",
       "2019-08-30  137.860001  "
      ]
     },
     "execution_count": 116,
     "metadata": {},
     "output_type": "execute_result"
    }
   ],
   "source": [
    "start = datetime.datetime(2010, 1, 1)\n",
    "end = datetime.datetime(2019, 9, 1)\n",
    "df = web.DataReader(\"MSFT\", 'yahoo', start, end)\n",
    "df.tail()"
   ]
  },
  {
   "cell_type": "code",
   "execution_count": 117,
   "metadata": {},
   "outputs": [],
   "source": [
    "dfcomp = web.DataReader(['MSFT'],'yahoo',start=start,end=end)['Adj Close']"
   ]
  },
  {
   "cell_type": "markdown",
   "metadata": {},
   "source": [
    "## Feature Engineering"
   ]
  },
  {
   "cell_type": "code",
   "execution_count": 118,
   "metadata": {},
   "outputs": [],
   "source": [
    "dfreg = df.loc[:,['Adj Close', 'Volume']]\n",
    "dfreg['HL_PCT'] = (df['High'] - df['Low']) / df['Close'] *100.0\n",
    "dfreg['PCT_change'] = (df['Close'] - df['Open']) / df['Open'] * 100.0"
   ]
  },
  {
   "cell_type": "markdown",
   "metadata": {},
   "source": [
    "## Pre-Processing"
   ]
  },
  {
   "cell_type": "code",
   "execution_count": 119,
   "metadata": {},
   "outputs": [],
   "source": [
    "# Drop missing value\n",
    "dfreg.fillna(value=-99999, inplace=True)\n",
    "\n",
    "# We want to separate 1 percent of the data to forecast\n",
    "forecast_out = int(math.ceil(0.01 * len(dfreg)))\n",
    "\n",
    "# Separating the label here, we want to predict the AdjClose\n",
    "forecast_col = 'Adj Close'\n",
    "dfreg['label'] = dfreg[forecast_col].shift(-forecast_out)\n",
    "X = np.array(dfreg.drop(['label'], 1))\n",
    "\n",
    "# Scale the X so that every series can have the same distribution for the linear regression\n",
    "X = preprocessing.scale(X)\n",
    "\n",
    "# Finally, we want to find Data Series of late X and early X (train) for model generation and evaluation\n",
    "X_late = X[-forecast_out:]\n",
    "X = X[:-forecast_out]\n",
    "\n",
    "# Separate label and identify it as y\n",
    "y = np.array(dfreg['label'])\n",
    "y = y[:-forecast_out]"
   ]
  },
  {
   "cell_type": "code",
   "execution_count": 120,
   "metadata": {},
   "outputs": [],
   "source": [
    "from sklearn import linear_model as linm\n",
    "from sklearn.svm import SVR\n",
    "\n",
    "from sklearn.linear_model import Ridge\n",
    "from sklearn.preprocessing import PolynomialFeatures\n",
    "from sklearn.pipeline import make_pipeline\n",
    "\n",
    "from sklearn.model_selection import train_test_split"
   ]
  },
  {
   "cell_type": "code",
   "execution_count": 121,
   "metadata": {
    "scrolled": true
   },
   "outputs": [
    {
     "data": {
      "image/png": "[encoded data removed]",
      "text/plain": [
       "<Figure size 432x288 with 1 Axes>"
      ]
     },
     "metadata": {},
     "output_type": "display_data"
    }
   ],
   "source": [
    "# prepare configuration for cross validation test harness\n",
    "seed = 7\n",
    "\n",
    "# prepare models\n",
    "models = []\n",
    "models.append(('Lasso', linm.Lasso()))\n",
    "models.append(('Elastic-Net', linm.ElasticNet()))\n",
    "models.append(('SVR', SVR(gamma='auto')))\n",
    "\n",
    "# evaluate each model in turn\n",
    "names = ['Lasso', 'Elastic-Net', 'SVR']\n",
    "scoring = 'accuracy'\n",
    "results = []\n",
    "for j in range(10):\n",
    "    i = 0\n",
    "    result = []\n",
    "    for name, model in models:\n",
    "        X_train, X_test, y_train, y_test = train_test_split(X, y, test_size = 0.2)\n",
    "        model.fit(X_train, y_train)\n",
    "        score = model.score(X_test, y_test)\n",
    "        result.append(score)\n",
    "        i += 1\n",
    "    \n",
    "    results.append(result)\n",
    "\n",
    "mean_results = []\n",
    "std_results = []\n",
    "    \n",
    "for j in range(3):\n",
    "    mean_results_i = []\n",
    "    std_results_i = []\n",
    "    for i in range(10):\n",
    "        mean_results_i.append(results[i][j])\n",
    "        std_results_i.append(results[i][j])\n",
    "        \n",
    "    mean_results.append(np.mean(mean_results_i))\n",
    "    std_results.append(np.std(std_results_i))\n",
    "\n",
    "# boxplot algorithm comparison\n",
    "fig = plt.figure()\n",
    "fig.suptitle('Algorithm Comparison')\n",
    "ax = fig.add_subplot(111)\n",
    "plt.plot(names, mean_results, 'ro')\n",
    "plt.show()"
   ]
  },
  {
   "cell_type": "markdown",
   "metadata": {},
   "source": [
    "Looks like Lasso is the best algorithm here. Let's use that to do our forecast."
   ]
  },
  {
   "cell_type": "code",
   "execution_count": 122,
   "metadata": {},
   "outputs": [],
   "source": [
    "from matplotlib import style\n",
    "style.use('ggplot')"
   ]
  },
  {
   "cell_type": "code",
   "execution_count": 123,
   "metadata": {},
   "outputs": [],
   "source": [
    "best_clf = linm.Lasso().fit(X_train, y_train)\n",
    "forecast_set = best_clf.predict(X_late)\n",
    "dfreg['Forecast'] = np.nan"
   ]
  },
  {
   "cell_type": "code",
   "execution_count": 124,
   "metadata": {},
   "outputs": [],
   "source": [
    "last_date = dfreg.iloc[-1].name # last integer/date\n",
    "last_unix = last_date\n",
    "next_unix = last_unix + datetime.timedelta(days=1)"
   ]
  },
  {
   "cell_type": "code",
   "execution_count": 125,
   "metadata": {},
   "outputs": [
    {
     "data": {
      "image/png": "[encoded data removed]",
      "text/plain": [
       "<Figure size 432x288 with 1 Axes>"
      ]
     },
     "metadata": {},
     "output_type": "display_data"
    }
   ],
   "source": [
    "for i in forecast_set:\n",
    "    next_date = next_unix\n",
    "    next_unix += datetime.timedelta(days=1)\n",
    "    dfreg.loc[next_date] = [np.nan for _ in range(len(dfreg.columns)-1)]+[i]\n",
    "       \n",
    "dfreg['Adj Close'].tail(500).plot()\n",
    "dfreg['Forecast'].tail(500).plot()\n",
    "plt.legend(loc=4)\n",
    "plt.xlabel('Date')\n",
    "plt.ylabel('Price')\n",
    "plt.show()"
   ]
  },
  {
   "cell_type": "markdown",
   "metadata": {},
   "source": [
    "And there we have it. Our Lasso model looks like it is fairly good at pre"
   ]
  },
  {
   "cell_type": "code",
   "execution_count": null,
   "metadata": {},
   "outputs": [],
   "source": []
  }
 ],
 "metadata": {
  "kernelspec": {
   "display_name": "Python [conda env:Python-3.7.4]",
   "language": "python",
   "name": "conda-env-Python-3.7.4-py"
  },
  "language_info": {
   "codemirror_mode": {
    "name": "ipython",
    "version": 3
   },
   "file_extension": ".py",
   "mimetype": "text/x-python",
   "name": "python",
   "nbconvert_exporter": "python",
   "pygments_lexer": "ipython3",
   "version": "3.7.4"
  }
 },
 "nbformat": 4,
 "nbformat_minor": 2
}
